{
 "cells": [
  {
   "cell_type": "code",
   "execution_count": 1,
   "metadata": {
    "collapsed": true
   },
   "outputs": [],
   "source": [
    "import matplotlib.pyplot as plt \n",
    "from matplotlib.colors import LogNorm\n",
    "%load_ext autoreload\n",
    "%autoreload 2\n",
    "%matplotlib inline\n",
    "from glob import glob\n",
    "import h5py\n",
    "import pandas as pd\n",
    "import numpy as np\n",
    "from scipy import misc"
   ]
  },
  {
   "cell_type": "code",
   "execution_count": 2,
   "metadata": {
    "collapsed": true
   },
   "outputs": [],
   "source": [
    "fl = glob('/bigdata/shared/Delphes/np_datasets_new/3_way/MaxLepDeltaR_des/train/*.h5')"
   ]
  },
  {
   "cell_type": "markdown",
   "metadata": {
    "collapsed": true
   },
   "source": [
    "!mkdir -p /bigdata/shared/Delphes/np_datasets_new/3_way/MaxLepDeltaR_des/train/images\n",
    "!mkdir -p /bigdata/shared/Delphes/np_datasets_new/3_way/MaxLepDeltaR_des/val/images"
   ]
  },
  {
   "cell_type": "code",
   "execution_count": 3,
   "metadata": {
    "collapsed": true
   },
   "outputs": [],
   "source": [
    "f = h5py.File(fl[0])"
   ]
  },
  {
   "cell_type": "code",
   "execution_count": 4,
   "metadata": {},
   "outputs": [
    {
     "data": {
      "text/plain": [
       "[u'HLF', u'Labels', u'Particles', u'Sources']"
      ]
     },
     "execution_count": 4,
     "metadata": {},
     "output_type": "execute_result"
    }
   ],
   "source": [
    "f.keys()"
   ]
  },
  {
   "cell_type": "code",
   "execution_count": 5,
   "metadata": {
    "collapsed": true
   },
   "outputs": [],
   "source": [
    "pf = f['Particles']"
   ]
  },
  {
   "cell_type": "code",
   "execution_count": 6,
   "metadata": {},
   "outputs": [
    {
     "name": "stdout",
     "output_type": "stream",
     "text": [
      "(7500, 801, 18)\n"
     ]
    }
   ],
   "source": [
    "print pf.shape"
   ]
  },
  {
   "cell_type": "code",
   "execution_count": 7,
   "metadata": {},
   "outputs": [
    {
     "data": {
      "text/plain": [
       "<HDF5 dataset \"HLF\": shape (7500, 14), type \"<f8\">"
      ]
     },
     "execution_count": 7,
     "metadata": {},
     "output_type": "execute_result"
    }
   ],
   "source": [
    "f['HLF']"
   ]
  },
  {
   "cell_type": "code",
   "execution_count": 8,
   "metadata": {},
   "outputs": [
    {
     "data": {
      "text/plain": [
       "<HDF5 dataset \"Labels\": shape (7500, 3), type \"<f8\">"
      ]
     },
     "execution_count": 8,
     "metadata": {},
     "output_type": "execute_result"
    }
   ],
   "source": [
    "f['Labels']"
   ]
  },
  {
   "cell_type": "code",
   "execution_count": 9,
   "metadata": {},
   "outputs": [
    {
     "name": "stdout",
     "output_type": "stream",
     "text": [
      "[[ 0.  1.  0.]\n",
      " [ 0.  1.  0.]\n",
      " [ 1.  0.  0.]\n",
      " [ 0.  1.  0.]\n",
      " [ 0.  1.  0.]]\n"
     ]
    }
   ],
   "source": [
    "print f['Labels'][:5]"
   ]
  },
  {
   "cell_type": "code",
   "execution_count": 10,
   "metadata": {
    "collapsed": true
   },
   "outputs": [],
   "source": [
    "features = ['Energy', 'Px', 'Py', 'Pz', 'Pt', 'Eta', 'Phi', \n",
    "                    'vtxX', 'vtxY', 'vtxZ','ChPFIso', 'GammaPFIso', 'NeuPFIso',\n",
    "                    'isChHad', 'isNeuHad', 'isGamma', 'isEle',  'isMu', \n",
    "                        #'Charge'\n",
    "           ]"
   ]
  },
  {
   "cell_type": "code",
   "execution_count": 11,
   "metadata": {
    "collapsed": true
   },
   "outputs": [],
   "source": [
    "colors = {'isMu' : 'green',\n",
    "         'isEle': 'blue',\n",
    "         'isGamma':'red',\n",
    "         'isChHad' : 'magenta',\n",
    "         'isNeuHad': 'black'}"
   ]
  },
  {
   "cell_type": "code",
   "execution_count": 12,
   "metadata": {
    "collapsed": true
   },
   "outputs": [],
   "source": [
    "def get(f,ievent,ip,var):\n",
    "    return f['Particles'][ievent,ip,features.index(var)]"
   ]
  },
  {
   "cell_type": "code",
   "execution_count": 13,
   "metadata": {
    "collapsed": true
   },
   "outputs": [],
   "source": [
    "def showEvent(f,ievent,itype='',show=True):\n",
    "    max_eta = 5\n",
    "    max_phi = np.pi\n",
    "    plt.figure( figsize=(max_eta,max_phi),frameon=False)\n",
    "    #plt.subplot(aspect='equal')\n",
    "    for ip in range(pf.shape[1]): # Number of particles\n",
    "        eta = get(f,ievent,ip,'Eta')\n",
    "        phi = get(f,ievent,ip,'Phi')\n",
    "        if eta==0 and phi==0: break\n",
    "        #E = get(f,ievent,ip,'Energy')\n",
    "        pT = get(f,ievent,ip,'Pt')\n",
    "        #lE = max(np.log(E)/5.,0.001)\n",
    "        lpT = max(np.log(pT)/5.,0.001)\n",
    "        \n",
    "        ptype = filter(None, [k for k in colors.keys() if get(f,ievent,ip,k)])\n",
    "        if not ptype:\n",
    "            print \"no partible type\",f['Particles'][ievent,ip,:]\n",
    "            continue\n",
    "        if ptype[0] == itype:\n",
    "            if itype == 'isNeuHad':\n",
    "                plt.gcf().gca().add_artist( plt.Circle((eta, phi), lpT,color=colors[ptype[0]],  fill=False ) )\n",
    "                plt.gcf().gca().add_artist( plt.Circle((eta, phi+2*np.pi), lpT,color=colors[ptype[0]],  fill=False ) )\n",
    "                plt.gcf().gca().add_artist( plt.Circle((eta, phi-2*np.pi), lpT,color=colors[ptype[0]],  fill=False ) )\n",
    "            if itype == 'isChHad':\n",
    "                plt.gcf().gca().add_artist( plt.Rectangle((eta, phi), lpT, lpT, color=colors[ptype[0]],  fill=False ) )\n",
    "                plt.gcf().gca().add_artist( plt.Rectangle((eta, phi+2*np.pi), lpT, lpT, color=colors[ptype[0]],  fill=False ) )\n",
    "                plt.gcf().gca().add_artist( plt.Rectangle((eta, phi-2*np.pi), lpT, lpT, color=colors[ptype[0]],  fill=False ) )\n",
    "            else: # TODO: implement function to draw triangle, diamond, star etc.\n",
    "                plt.gcf().gca().add_artist( plt.Circle((eta, phi), lpT,color=colors[ptype[0]],  fill=False ) )\n",
    "                plt.gcf().gca().add_artist( plt.Circle((eta, phi+2*np.pi), lpT,color=colors[ptype[0]],  fill=False ) )\n",
    "                plt.gcf().gca().add_artist( plt.Circle((eta, phi-2*np.pi), lpT,color=colors[ptype[0]],  fill=False ) )\n",
    "    plt.xlim((-max_eta,max_eta))\n",
    "    plt.ylim((-max_phi,max_phi))\n",
    "    plt.axis('off')\n",
    "    if show: plt.show()"
   ]
  },
  {
   "cell_type": "code",
   "execution_count": 14,
   "metadata": {},
   "outputs": [
    {
     "data": {
      "image/png": "[encoded data removed]",
      "text/plain": [
       "<matplotlib.figure.Figure at 0x7f413c4d5d50>"
      ]
     },
     "metadata": {},
     "output_type": "display_data"
    },
    {
     "data": {
      "image/png": "[encoded data removed]",
      "text/plain": [
       "<matplotlib.figure.Figure at 0x7f413c4d5d90>"
      ]
     },
     "metadata": {},
     "output_type": "display_data"
    }
   ],
   "source": [
    "showEvent(f,109,'isChHad',show=True)\n",
    "showEvent(f,109,'isGamma',show=True)"
   ]
  },
  {
   "cell_type": "code",
   "execution_count": 15,
   "metadata": {
    "collapsed": true
   },
   "outputs": [],
   "source": [
    "def transformEvent(f,ievent, show=True):\n",
    "    img_collection = []\n",
    "    for itype in [k for k in colors.keys()]:\n",
    "        showEvent(f,ievent,itype,show)\n",
    "        plt.savefig('fig.png', dpi=100,bbox_inches='tight', pad_inches=0)\n",
    "        img = image = misc.imread('fig.png', mode='L') # 8-bit pixels, black and white\n",
    "        img_collection.append(img)\n",
    "    #print img.shape\n",
    "    img_stack = np.stack(img_collection)\n",
    "    #print img_stack.shape\n",
    "    return img_stack"
   ]
  },
  {
   "cell_type": "code",
   "execution_count": 16,
   "metadata": {},
   "outputs": [
    {
     "name": "stdout",
     "output_type": "stream",
     "text": [
      "(5, 264, 421)\n",
      "(264, 421)\n"
     ]
    },
    {
     "data": {
      "image/png": "[encoded data removed]",
      "text/plain": [
       "<matplotlib.figure.Figure at 0x7f412a3f8410>"
      ]
     },
     "metadata": {},
     "output_type": "display_data"
    },
    {
     "data": {
      "image/png": "[encoded data removed]",
      "text/plain": [
       "<matplotlib.figure.Figure at 0x7f412a2a5590>"
      ]
     },
     "metadata": {},
     "output_type": "display_data"
    },
    {
     "data": {
      "image/png": "[encoded data removed]",
      "text/plain": [
       "<matplotlib.figure.Figure at 0x7f413a244690>"
      ]
     },
     "metadata": {},
     "output_type": "display_data"
    },
    {
     "data": {
      "image/png": "[encoded data removed]",
      "text/plain": [
       "<matplotlib.figure.Figure at 0x7f413a2b46d0>"
      ]
     },
     "metadata": {},
     "output_type": "display_data"
    },
    {
     "data": {
      "image/png": "[encoded data removed]",
      "text/plain": [
       "<matplotlib.figure.Figure at 0x7f413b523c90>"
      ]
     },
     "metadata": {},
     "output_type": "display_data"
    }
   ],
   "source": [
    "i = transformEvent(f,255,show=False)\n",
    "print i.shape\n",
    "print i[2].shape"
   ]
  },
  {
   "cell_type": "code",
   "execution_count": 17,
   "metadata": {},
   "outputs": [
    {
     "data": {
      "image/png": "[encoded data removed]",
      "text/plain": [
       "<matplotlib.figure.Figure at 0x7f413b7eed50>"
      ]
     },
     "metadata": {},
     "output_type": "display_data"
    }
   ],
   "source": [
    "plt.imshow(i[1],cmap='gray_r')\n",
    "plt.show()"
   ]
  },
  {
   "cell_type": "code",
   "execution_count": null,
   "metadata": {
    "collapsed": true
   },
   "outputs": [],
   "source": [
    "def transformDataset(f, limit=None):\n",
    "    s = f['Particles'].shape\n",
    "    newDataset = None\n",
    "    for ievent in range(s[0]):\n",
    "        if limit and ievent>=limit:break\n",
    "        i = transformEvent(f,ievent, show=False)\n",
    "        if newDataset is None:\n",
    "            newDataset = np.zeros((s[0] if not limit else limit ,)+i.shape) # #png format\n",
    "        newDataset[ievent,...] = i\n",
    "        if (ievent%100==0): print \"%d/%d\"%(ievent,s[0])\n",
    "    return newDataset"
   ]
  },
  {
   "cell_type": "code",
   "execution_count": null,
   "metadata": {},
   "outputs": [
    {
     "name": "stdout",
     "output_type": "stream",
     "text": [
      "0/7500\n"
     ]
    },
    {
     "name": "stderr",
     "output_type": "stream",
     "text": [
      "/usr/local/lib/python2.7/dist-packages/matplotlib/pyplot.py:524: RuntimeWarning: More than 20 figures have been opened. Figures created through the pyplot interface (`matplotlib.pyplot.figure`) are retained until explicitly closed and may consume too much memory. (To control this warning, see the rcParam `figure.max_open_warning`).\n",
      "  max_open_warning, RuntimeWarning)\n"
     ]
    }
   ],
   "source": [
    "d = transformDataset(f, 10)"
   ]
  },
  {
   "cell_type": "code",
   "execution_count": null,
   "metadata": {
    "collapsed": true
   },
   "outputs": [],
   "source": [
    "def transformFile(fn, limit=None):\n",
    "    \n",
    "    ff = h5py.File(fn,'r')\n",
    "    new_fn = fn.rsplit('/',1)[0]+'/images/'+fn.rsplit('/',1)[-1]\n",
    "    print \"Converting\",fn,\"into\",new_fn,(\"for %s events\"%limit) if limit else \"\"\n",
    "    nd = transformDataset(ff, limit)\n",
    "    fo = h5py.File(new_fn,'w')\n",
    "    fo['Labels'] = ff['Labels'][:limit,...] if limit else ff['Labels']\n",
    "    fo['Images'] = nd/255. ## normalize it\n",
    "    fo.close()"
   ]
  },
  {
   "cell_type": "code",
   "execution_count": null,
   "metadata": {},
   "outputs": [],
   "source": [
    "for fn in fl:\n",
    "    transformFile(fn)"
   ]
  },
  {
   "cell_type": "code",
   "execution_count": null,
   "metadata": {
    "collapsed": true
   },
   "outputs": [],
   "source": []
  }
 ],
 "metadata": {
  "kernelspec": {
   "display_name": "Python 2",
   "language": "python",
   "name": "python2"
  },
  "language_info": {
   "codemirror_mode": {
    "name": "ipython",
    "version": 2
   },
   "file_extension": ".py",
   "mimetype": "text/x-python",
   "name": "python",
   "nbconvert_exporter": "python",
   "pygments_lexer": "ipython2",
   "version": "2.7.12"
  }
 },
 "nbformat": 4,
 "nbformat_minor": 2
}
